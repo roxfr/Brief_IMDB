{
 "cells": [
  {
   "cell_type": "markdown",
   "metadata": {},
   "source": [
    "<h1>Brief IMDB<h1>\n",
    "\n",
    "<h2>Auteurs : Kévin Heugas & Thierry Massart<h2>\n",
    "\n",
    "<h2>Date : 04/2024 (S15)<h2>\n",
    "\n",
    "[Lien vers Simplonline : Prédiction de note IMDB de film](https://simplonline.co/briefs/53911d01-6ba4-4ad6-90e0-daf34da67ec2)"
   ]
  },
  {
   "cell_type": "markdown",
   "metadata": {},
   "source": [
    "<h3>1. Importation, exploration/analyse, nettoyage et enregistrement du DataSet<h3>"
   ]
  },
  {
   "cell_type": "markdown",
   "metadata": {},
   "source": [
    "<h4>1.1. Importation<h4>"
   ]
  },
  {
   "cell_type": "code",
   "execution_count": null,
   "metadata": {},
   "outputs": [],
   "source": [
    "# Importation des librairies python\n",
    "import pandas as pd\n",
    "import seaborn as sns\n",
    "import matplotlib.pyplot as plt\n",
    "\n",
    "from sklearn.model_selection import train_test_split\n",
    "from sklearn.linear_model import LinearRegression\n",
    "from sklearn.tree import DecisionTreeRegressor\n",
    "from sklearn.ensemble import RandomForestRegressor\n",
    "from sklearn.metrics import mean_squared_error"
   ]
  },
  {
   "cell_type": "code",
   "execution_count": null,
   "metadata": {},
   "outputs": [],
   "source": [
    "# Chargement des données IMDB\n",
    "df = pd.read_csv(\"5000_movies_bis.csv\")"
   ]
  },
  {
   "cell_type": "markdown",
   "metadata": {},
   "source": [
    "<h4>1.2. Exploration/analyse<h4>"
   ]
  },
  {
   "cell_type": "code",
   "execution_count": null,
   "metadata": {},
   "outputs": [],
   "source": [
    "# Affichage des premières lignes du DataFrame pour comprendre sa structure\n",
    "pd.set_option('display.max_columns', None)\n",
    "df.head()"
   ]
  },
  {
   "cell_type": "code",
   "execution_count": null,
   "metadata": {},
   "outputs": [],
   "source": [
    "# Dimensions du DataFrame\n",
    "df.shape"
   ]
  },
  {
   "cell_type": "code",
   "execution_count": null,
   "metadata": {},
   "outputs": [],
   "source": [
    "# Inspection plus en détail pour certaines colonnes : 'language' et 'content_rating'\n",
    "df['content_rating'].unique()"
   ]
  },
  {
   "cell_type": "code",
   "execution_count": null,
   "metadata": {},
   "outputs": [],
   "source": [
    "df['language'].unique()"
   ]
  },
  {
   "cell_type": "code",
   "execution_count": null,
   "metadata": {},
   "outputs": [],
   "source": [
    "df['language'].value_counts()"
   ]
  },
  {
   "cell_type": "code",
   "execution_count": null,
   "metadata": {},
   "outputs": [],
   "source": [
    "# Vérification des informations sur les colonnes et les valeurs manquantes\n",
    "df.info()"
   ]
  },
  {
   "cell_type": "code",
   "execution_count": null,
   "metadata": {},
   "outputs": [],
   "source": [
    "# Vérification des statistiques descriptives pour les colonnes numériques\n",
    "df.describe()"
   ]
  },
  {
   "cell_type": "code",
   "execution_count": null,
   "metadata": {},
   "outputs": [],
   "source": [
    "# Identification des valeurs manquantes\n",
    "df.isnull().sum()"
   ]
  },
  {
   "cell_type": "code",
   "execution_count": null,
   "metadata": {},
   "outputs": [],
   "source": [
    "# Exclusion des colonnes non numériques\n",
    "numeric_df = df.select_dtypes(include=['float64', 'int64'])\n",
    "\n",
    "# Calcul de la matrice de corrélation\n",
    "correlation_matrix = numeric_df.corr()\n",
    "\n",
    "# Affichage du heatmap de la matrice de corrélation\n",
    "plt.figure(figsize=(12, 8))\n",
    "sns.heatmap(correlation_matrix, annot=True, cmap='coolwarm', fmt=\".2f\", linewidths=.5)\n",
    "plt.title('Matrice de Corrélation')\n",
    "plt.show()\n",
    "\n",
    "# Traçage des boxplots pour chaque variable numérique\n",
    "plt.figure(figsize=(12, 8))\n",
    "sns.boxplot(data=numeric_df, orient=\"h\")\n",
    "plt.title('Boîtes à moustaches pour les variables numériques')\n",
    "plt.show()"
   ]
  },
  {
   "cell_type": "markdown",
   "metadata": {},
   "source": [
    "<h4>1.3. Nettoyage<h4>"
   ]
  },
  {
   "cell_type": "code",
   "execution_count": null,
   "metadata": {},
   "outputs": [],
   "source": [
    "# Copie du DataFrame d'origine dans un nouveau DataFrame 'df_cleaned'\n",
    "df_cleaned = df.copy()"
   ]
  },
  {
   "cell_type": "code",
   "execution_count": null,
   "metadata": {},
   "outputs": [],
   "source": [
    "# Suppression des doublons (perte de 45 lignes)\n",
    "df_cleaned = df_cleaned.drop_duplicates()\n",
    "df_cleaned.shape"
   ]
  },
  {
   "cell_type": "code",
   "execution_count": null,
   "metadata": {},
   "outputs": [],
   "source": [
    "# Remplacement des valeurs manquantes dans les colonnes numériques par la médiane\n",
    "numeric_cols = df_cleaned.select_dtypes(include=['float64', 'int64']).columns\n",
    "df_cleaned[numeric_cols] = df_cleaned[numeric_cols].fillna(df_cleaned[numeric_cols].median())\n",
    "\n",
    "# Remplacement des valeurs manquantes dans les colonnes de type objet par 'N/C'\n",
    "object_cols = df_cleaned.select_dtypes(include=['object']).columns\n",
    "df_cleaned[object_cols] = df_cleaned[object_cols].fillna('N/C')\n",
    "\n",
    "# Suppression des colonnes non exhaustives (suivant leurs corrélations et choix d'équipe)\n",
    "df_cleaned = df_cleaned.drop(['color', 'duration', 'director_fb_likes', 'actor_3_fb_likes', 'actor_3_name', 'facenumber_in_poster', 'plot_keywords', 'movie_imdb_link', 'language', 'country', 'content_rating', 'budget', 'title_year', 'aspect_ratio'], axis=1, errors='ignore')\n",
    "\n",
    "# Re-identification des valeurs manquantes pour validation\n",
    "df_cleaned.isnull().sum()"
   ]
  },
  {
   "cell_type": "code",
   "execution_count": null,
   "metadata": {},
   "outputs": [],
   "source": [
    "# Test get_dummies VS factorize => factorisation choisie\n",
    "\n",
    "# genres_dummies = df_cleaned['genres'].str.get_dummies(sep='|')\n",
    "# df_cleaned = pd.concat([df_cleaned, genres_dummies], axis=1)\n",
    "\n",
    "# plot_keywords_dummies = df_cleaned['plot_keywords'].str.get_dummies(sep='|')\n",
    "# df_cleaned = pd.concat([df_cleaned, plot_keywords_dummies], axis=1)\n",
    "\n",
    "# df_cleaned = df_cleaned.drop(['plot_keywords', 'genres'], axis=1, errors='ignore')\n",
    "\n",
    "# director_name_dummies = df_cleaned['director_name'].str.get_dummies(sep='|')\n",
    "# df_cleaned = pd.concat([df_cleaned, director_name_dummies], axis=1)\n",
    "\n",
    "# actor_2_name_dummies = df_cleaned['actor_2_name'].str.get_dummies(sep='|')\n",
    "# df_cleaned = pd.concat([df_cleaned, actor_2_name_dummies], axis=1)\n",
    "\n",
    "# actor_1_name_dummies = df_cleaned['actor_1_name'].str.get_dummies(sep='|')\n",
    "# df_cleaned = pd.concat([df_cleaned, actor_1_name_dummies], axis=1)\n",
    "\n",
    "# country_dummies = df_cleaned['country'].str.get_dummies(sep='|')\n",
    "# df_cleaned = pd.concat([df_cleaned, country_dummies], axis=1)\n",
    "\n",
    "# language_dummies = df_cleaned['language'].astype(str).str.get_dummies(sep='|')\n",
    "# df_cleaned = pd.concat([df_cleaned, language_dummies], axis=1)\n",
    "\n",
    "# df_cleaned = df_cleaned.drop(['director_name', 'actor_2_name', 'actor_1_name', 'country'], axis=1, errors='ignore')\n",
    "# df_cleaned"
   ]
  },
  {
   "cell_type": "code",
   "execution_count": null,
   "metadata": {},
   "outputs": [],
   "source": [
    "# Factorisation des colonnes\n",
    "df_cleaned['director_name_factorized'] = df_cleaned['director_name'].factorize()[0]\n",
    "df_cleaned['actor_2_name_factorized'] = df_cleaned['actor_2_name'].factorize()[0]\n",
    "df_cleaned['genres_factorized'] = df_cleaned['genres'].factorize()[0]\n",
    "df_cleaned['actor_1_name_factorized'] = df_cleaned['actor_1_name'].factorize()[0]\n",
    "\n",
    "# Suppression des colonnes d'origine\n",
    "df_cleaned = df_cleaned.drop(['director_name', 'actor_2_name', 'genres', 'actor_1_name'], axis=1, errors='ignore')\n",
    "\n",
    "# Affichage\n",
    "df_cleaned\n",
    "\n",
    "# Au final : suppression de 14 colonnes et 45 lignes"
   ]
  },
  {
   "cell_type": "markdown",
   "metadata": {},
   "source": [
    "<h4>1.4. Enregistrement<h4>"
   ]
  },
  {
   "cell_type": "code",
   "execution_count": null,
   "metadata": {},
   "outputs": [],
   "source": [
    "# Enregistrer du dataset nettoyé dans un nouveau fichier csv\n",
    "df_cleaned.to_csv(\"5000_movies_cleaned.csv\", index=False)"
   ]
  },
  {
   "cell_type": "markdown",
   "metadata": {},
   "source": [
    "<h3>2. Modélisation ML<h3>"
   ]
  },
  {
   "cell_type": "code",
   "execution_count": null,
   "metadata": {},
   "outputs": [],
   "source": []
  }
 ],
 "metadata": {
  "kernelspec": {
   "display_name": "Python 3 (ipykernel)",
   "language": "python",
   "name": "python3"
  },
  "language_info": {
   "codemirror_mode": {
    "name": "ipython",
    "version": 3
   },
   "file_extension": ".py",
   "mimetype": "text/x-python",
   "name": "python",
   "nbconvert_exporter": "python",
   "pygments_lexer": "ipython3",
   "version": "3.11.7"
  }
 },
 "nbformat": 4,
 "nbformat_minor": 4
}
